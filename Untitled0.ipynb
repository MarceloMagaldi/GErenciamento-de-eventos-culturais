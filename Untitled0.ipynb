{
  "nbformat": 4,
  "nbformat_minor": 0,
  "metadata": {
    "colab": {
      "provenance": [],
      "toc_visible": true
    },
    "kernelspec": {
      "name": "python3",
      "display_name": "Python 3"
    },
    "language_info": {
      "name": "python"
    }
  },
  "cells": [
    {
      "cell_type": "code",
      "source": [
        "import sqlite3\n",
        "\n",
        "# Conecta ao banco de dados (ou cria um novo se não existir)\n",
        "conn = sqlite3.connect('eventos_culturais.db')\n",
        "cursor = conn.cursor()\n",
        "\n",
        "# Cria a tabela Eventos\n",
        "cursor.execute('''\n",
        "CREATE TABLE IF NOT EXISTS Eventos (\n",
        "    id INTEGER PRIMARY KEY AUTOINCREMENT,\n",
        "    nome TEXT NOT NULL,\n",
        "    data TEXT NOT NULL,\n",
        "    local TEXT NOT NULL,\n",
        "    descricao TEXT,\n",
        "    organizador TEXT NOT NULL\n",
        ")\n",
        "''')\n",
        "\n",
        "# Cria a tabela Participantes\n",
        "cursor.execute('''\n",
        "CREATE TABLE IF NOT EXISTS Participantes (\n",
        "    id INTEGER PRIMARY KEY AUTOINCREMENT,\n",
        "    nome TEXT NOT NULL,\n",
        "    email TEXT UNIQUE NOT NULL\n",
        ")\n",
        "''')\n",
        "\n",
        "# Cria a tabela de junção para relacionar Eventos e Participantes (muitos para muitos)\n",
        "cursor.execute('''\n",
        "CREATE TABLE IF NOT EXISTS Inscricoes (\n",
        "    id INTEGER PRIMARY KEY AUTOINCREMENT,\n",
        "    id_evento INTEGER NOT NULL,\n",
        "    id_participante INTEGER NOT NULL,\n",
        "    data_inscricao TEXT NOT NULL,\n",
        "    FOREIGN KEY (id_evento) REFERENCES Eventos(id),\n",
        "    FOREIGN KEY (id_participante) REFERENCES Participantes(id)\n",
        ")\n",
        "''')\n",
        "\n",
        "conn.commit()\n",
        "print(\"Tabelas criadas com sucesso!\")\n"
      ],
      "metadata": {
        "colab": {
          "base_uri": "https://localhost:8080/"
        },
        "id": "lyttPjeiBabC",
        "outputId": "d3a86ea3-e4e0-4f08-c20b-51f57234846a"
      },
      "execution_count": 7,
      "outputs": [
        {
          "output_type": "stream",
          "name": "stdout",
          "text": [
            "Tabelas criadas com sucesso!\n"
          ]
        }
      ]
    },
    {
      "cell_type": "code",
      "source": [
        "# Inserindo eventos\n",
        "cursor.execute(\"INSERT INTO Eventos (nome, data, local, descricao, organizador) VALUES (?, ?, ?, ?, ?)\",\n",
        "               ('Oficina de Teatro', '2025-05-10', 'Centro Cultural A', 'Introdução à arte teatral', 'Grupo Arte Viva'))\n",
        "cursor.execute(\"INSERT INTO Eventos (nome, data, local, descricao, organizador) VALUES (?, ?, ?, ?, ?)\",\n",
        "               ('Exposição de Pinturas', '2025-05-15', 'Galeria B', 'Obras de artistas locais', 'Associação Artística'))\n",
        "\n",
        "# Inserindo participantes\n",
        "# Check if email already exists before inserting\n",
        "cursor.execute(\"SELECT 1 FROM Participantes WHERE email = ?\", ('ana.silva@email.com',))\n",
        "if cursor.fetchone() is None:\n",
        "    cursor.execute(\"INSERT INTO Participantes (nome, email) VALUES (?, ?)\",\n",
        "                   ('Ana Silva', 'ana.silva@email.com'))\n",
        "else:\n",
        "    print(\"Email 'ana.silva@email.com' already exists in the database.\")\n",
        "\n",
        "cursor.execute(\"SELECT 1 FROM Participantes WHERE email = ?\", ('pedro.oliveira@email.com',))\n",
        "if cursor.fetchone() is None:\n",
        "    cursor.execute(\"INSERT INTO Participantes (nome, email) VALUES (?, ?)\",\n",
        "                   ('Pedro Oliveira', 'pedro.oliveira@email.com'))\n",
        "else:\n",
        "    print(\"Email 'pedro.oliveira@email.com' already exists in the database.\")\n",
        "\n",
        "cursor.execute(\"SELECT 1 FROM Participantes WHERE email = ?\", ('carla.souza@email.com',))\n",
        "if cursor.fetchone() is None:\n",
        "    cursor.execute(\"INSERT INTO Participantes (nome, email) VALUES (?, ?)\",\n",
        "                   ('Carla Souza', 'carla.souza@email.com'))\n",
        "else:\n",
        "    print(\"Email 'carla.souza@email.com' already exists in the database.\")\n",
        "\n",
        "# Inserindo inscrições\n",
        "cursor.execute(\"INSERT INTO Inscricoes (id_evento, id_participante, data_inscricao) VALUES (?, ?, ?)\",\n",
        "               (1, 1, '2025-05-05'))\n",
        "cursor.execute(\"INSERT INTO Inscricoes (id_evento, id_participante, data_inscricao) VALUES (?, ?, ?)\",\n",
        "               (1, 2, '2025-05-06'))\n",
        "cursor.execute(\"INSERT INTO Inscricoes (id_evento, id_participante, data_inscricao) VALUES (?, ?, ?)\",\n",
        "               (2, 3, '2025-05-12'))\n",
        "\n",
        "conn.commit()\n",
        "print(\"Registros inseridos com sucesso!\")"
      ],
      "metadata": {
        "colab": {
          "base_uri": "https://localhost:8080/"
        },
        "id": "ZV3tOYiKB0-E",
        "outputId": "4e0488fe-6e55-4850-b284-982e618bf499"
      },
      "execution_count": 12,
      "outputs": [
        {
          "output_type": "stream",
          "name": "stdout",
          "text": [
            "Email 'ana.silva@email.com' already exists in the database.\n",
            "Email 'pedro.oliveira@email.com' already exists in the database.\n",
            "Email 'carla.souza@email.com' already exists in the database.\n",
            "Registros inseridos com sucesso!\n"
          ]
        }
      ]
    },
    {
      "cell_type": "code",
      "source": [
        "# Consulta simples: Listar todos os eventos\n",
        "cursor.execute(\"SELECT * FROM Eventos\")\n",
        "eventos = cursor.fetchall()\n",
        "print(\"\\nLista de Eventos:\")\n",
        "for evento in eventos:\n",
        "    print(evento)\n",
        "\n",
        "# Consulta com JOIN: Listar participantes e os eventos em que estão inscritos\n",
        "cursor.execute('''\n",
        "SELECT p.nome AS Participante, e.nome AS Evento\n",
        "FROM Participantes p\n",
        "JOIN Inscricoes i ON p.id = i.id_participante\n",
        "JOIN Eventos e ON i.id_evento = e.id\n",
        "''')\n",
        "inscricoes = cursor.fetchall()\n",
        "print(\"\\nParticipantes e suas Inscrições:\")\n",
        "for inscricao in inscricoes:\n",
        "    print(inscricao)\n",
        "\n",
        "# Consulta com WHERE: Listar eventos que acontecem após uma determinada data\n",
        "cursor.execute(\"SELECT * FROM Eventos WHERE data > '2025-05-12'\")\n",
        "eventos_futuros = cursor.fetchall()\n",
        "print(\"\\nEventos Futuros (após 2025-05-12):\")\n",
        "for evento in eventos_futuros:\n",
        "    print(evento)\n",
        "\n",
        "conn.close()"
      ],
      "metadata": {
        "colab": {
          "base_uri": "https://localhost:8080/"
        },
        "id": "A6H_XfGcCUuM",
        "outputId": "2f13f5d2-143a-4415-9225-2b9a31e9fe9e"
      },
      "execution_count": 13,
      "outputs": [
        {
          "output_type": "stream",
          "name": "stdout",
          "text": [
            "\n",
            "Lista de Eventos:\n",
            "(1, 'Oficina de Teatro', '2025-05-10', 'Centro Cultural A', 'Introdução à arte teatral', 'Grupo Arte Viva')\n",
            "(2, 'Exposição de Pinturas', '2025-05-15', 'Galeria B', 'Obras de artistas locais', 'Associação Artística')\n",
            "(3, 'Oficina de Teatro', '2025-05-10', 'Centro Cultural A', 'Introdução à arte teatral', 'Grupo Arte Viva')\n",
            "(4, 'Exposição de Pinturas', '2025-05-15', 'Galeria B', 'Obras de artistas locais', 'Associação Artística')\n",
            "(5, 'Oficina de Teatro', '2025-05-10', 'Centro Cultural A', 'Introdução à arte teatral', 'Grupo Arte Viva')\n",
            "(6, 'Exposição de Pinturas', '2025-05-15', 'Galeria B', 'Obras de artistas locais', 'Associação Artística')\n",
            "(7, 'Oficina de Teatro', '2025-05-10', 'Centro Cultural A', 'Introdução à arte teatral', 'Grupo Arte Viva')\n",
            "(8, 'Exposição de Pinturas', '2025-05-15', 'Galeria B', 'Obras de artistas locais', 'Associação Artística')\n",
            "(9, 'Oficina de Teatro', '2025-05-10', 'Centro Cultural A', 'Introdução à arte teatral', 'Grupo Arte Viva')\n",
            "(10, 'Exposição de Pinturas', '2025-05-15', 'Galeria B', 'Obras de artistas locais', 'Associação Artística')\n",
            "(11, 'Oficina de Teatro', '2025-05-10', 'Centro Cultural A', 'Introdução à arte teatral', 'Grupo Arte Viva')\n",
            "(12, 'Exposição de Pinturas', '2025-05-15', 'Galeria B', 'Obras de artistas locais', 'Associação Artística')\n",
            "\n",
            "Participantes e suas Inscrições:\n",
            "('Ana Silva', 'Oficina de Teatro')\n",
            "('Pedro Oliveira', 'Oficina de Teatro')\n",
            "('Carla Souza', 'Exposição de Pinturas')\n",
            "('Ana Silva', 'Oficina de Teatro')\n",
            "('Pedro Oliveira', 'Oficina de Teatro')\n",
            "('Carla Souza', 'Exposição de Pinturas')\n",
            "('Ana Silva', 'Oficina de Teatro')\n",
            "('Pedro Oliveira', 'Oficina de Teatro')\n",
            "('Carla Souza', 'Exposição de Pinturas')\n",
            "\n",
            "Eventos Futuros (após 2025-05-12):\n",
            "(2, 'Exposição de Pinturas', '2025-05-15', 'Galeria B', 'Obras de artistas locais', 'Associação Artística')\n",
            "(4, 'Exposição de Pinturas', '2025-05-15', 'Galeria B', 'Obras de artistas locais', 'Associação Artística')\n",
            "(6, 'Exposição de Pinturas', '2025-05-15', 'Galeria B', 'Obras de artistas locais', 'Associação Artística')\n",
            "(8, 'Exposição de Pinturas', '2025-05-15', 'Galeria B', 'Obras de artistas locais', 'Associação Artística')\n",
            "(10, 'Exposição de Pinturas', '2025-05-15', 'Galeria B', 'Obras de artistas locais', 'Associação Artística')\n",
            "(12, 'Exposição de Pinturas', '2025-05-15', 'Galeria B', 'Obras de artistas locais', 'Associação Artística')\n"
          ]
        }
      ]
    }
  ]
}